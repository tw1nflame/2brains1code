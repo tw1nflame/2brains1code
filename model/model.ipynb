{
 "cells": [
  {
   "cell_type": "code",
   "execution_count": 1,
   "metadata": {},
   "outputs": [
    {
     "name": "stderr",
     "output_type": "stream",
     "text": [
      "d:\\projects\\sentiment_analysis\\venv\\Lib\\site-packages\\tqdm\\auto.py:21: TqdmWarning: IProgress not found. Please update jupyter and ipywidgets. See https://ipywidgets.readthedocs.io/en/stable/user_install.html\n",
      "  from .autonotebook import tqdm as notebook_tqdm\n"
     ]
    }
   ],
   "source": [
    "from transformers import BertTokenizer, BertForSequenceClassification\n",
    "import torch"
   ]
  },
  {
   "cell_type": "code",
   "execution_count": 9,
   "metadata": {},
   "outputs": [],
   "source": [
    "from transformers import AutoTokenizer, AutoModelForSequenceClassification\n",
    "\n",
    "tokenizer = AutoTokenizer.from_pretrained(\"sismetanin/rubert-ru-sentiment-rusentiment\")\n",
    "model = AutoModelForSequenceClassification.from_pretrained(\"sismetanin/rubert-ru-sentiment-rusentiment\")\n",
    "\n",
    "\n"
   ]
  },
  {
   "cell_type": "code",
   "execution_count": 25,
   "metadata": {},
   "outputs": [
    {
     "name": "stdout",
     "output_type": "stream",
     "text": [
      "tensor([[0.1847, 0.7454, 0.0160, 0.0526, 0.0013]])\n"
     ]
    },
    {
     "name": "stderr",
     "output_type": "stream",
     "text": [
      "C:\\Users\\пк\\AppData\\Local\\Temp\\ipykernel_15136\\4150916011.py:6: UserWarning: Implicit dimension choice for softmax has been deprecated. Change the call to include dim=X as an argument.\n",
      "  print(torch.nn.functional.softmax(logits))\n"
     ]
    }
   ],
   "source": [
    "inputs = tokenizer(\"Очень плохие наушники\", padding=True, truncation=True, return_tensors=\"pt\")\n",
    "with torch.no_grad():\n",
    "    outputs = model(**inputs)\n",
    "    logits = outputs.logits\n",
    "    predicted_class = torch.argmax(logits, dim=1).item()\n",
    "    print(torch.nn.functional.softmax(logits))"
   ]
  },
  {
   "cell_type": "code",
   "execution_count": 26,
   "metadata": {},
   "outputs": [
    {
     "name": "stdout",
     "output_type": "stream",
     "text": [
      "Текст: Этот фильм был просто ужасен!\n",
      "Логиты: tensor([[ 2.8753,  0.2771,  0.2848,  0.5628, -3.2889]])\n",
      "Предсказанный класс: 0 (Neutral)\n",
      "--------------------------------------------------\n",
      "Текст: Фильм нормальный, не хуже других.\n",
      "Логиты: tensor([[-0.5001,  0.2734,  3.5308, -0.1880, -3.1131]])\n",
      "Предсказанный класс: 2 (Very Positive)\n",
      "--------------------------------------------------\n",
      "Текст: Мне очень понравилось! Это шедевр!\n",
      "Логиты: tensor([[-0.9837, -1.5925,  4.6931, -1.1424, -1.2629]])\n",
      "Предсказанный класс: 2 (Very Positive)\n",
      "--------------------------------------------------\n"
     ]
    }
   ],
   "source": [
    "texts = [\n",
    "    \"Этот фильм был просто ужасен!\",  # ожидаем негатив\n",
    "    \"Фильм нормальный, не хуже других.\",  # ожидаем нейтральный\n",
    "    \"Мне очень понравилось! Это шедевр!\",  # ожидаем очень позитивный\n",
    "]\n",
    "\n",
    "for text in texts:\n",
    "    inputs = tokenizer(text, padding=True, truncation=True, max_length=512, return_tensors=\"pt\")\n",
    "\n",
    "    with torch.no_grad():\n",
    "        outputs = model(**inputs)\n",
    "        logits = outputs.logits\n",
    "        predicted_class = torch.argmax(logits, dim=1).item()\n",
    "    \n",
    "    print(f\"Текст: {text}\")\n",
    "    print(f\"Логиты: {logits}\")\n",
    "    print(f\"Предсказанный класс: {predicted_class} ({['Neutral', 'Positive', 'Very Positive', 'Negative', 'Very Negative'][predicted_class]})\")\n",
    "    print(\"-\" * 50)"
   ]
  },
  {
   "cell_type": "code",
   "execution_count": 2,
   "metadata": {},
   "outputs": [
    {
     "name": "stdout",
     "output_type": "stream",
     "text": [
      "                                              review sentiment\n",
      "0  качество плохое пошив ужасный (горловина напер...  negative\n",
      "1  Товар отдали другому человеку, я не получила п...  negative\n",
      "2  Ужасная синтетика! Тонкая, ничего общего с пре...  negative\n",
      "3  товар не пришел, продавец продлил защиту без м...  negative\n",
      "4      Кофточка голая синтетика, носить не возможно.  negative\n"
     ]
    }
   ],
   "source": [
    "import pandas as pd\n",
    "\n",
    "df = pd.read_csv(\"reviews.csv\", sep=\"\\t\")\n",
    "print(df.head())\n"
   ]
  },
  {
   "cell_type": "code",
   "execution_count": 6,
   "metadata": {},
   "outputs": [
    {
     "name": "stderr",
     "output_type": "stream",
     "text": [
      "Some weights of BertForSequenceClassification were not initialized from the model checkpoint at cointegrated/rubert-tiny2 and are newly initialized: ['classifier.bias', 'classifier.weight']\n",
      "You should probably TRAIN this model on a down-stream task to be able to use it for predictions and inference.\n"
     ]
    },
    {
     "data": {
      "text/html": [
       "\n",
       "    <div>\n",
       "      \n",
       "      <progress value='100' max='100' style='width:300px; height:20px; vertical-align: middle;'></progress>\n",
       "      [100/100 00:26, Epoch 1/1]\n",
       "    </div>\n",
       "    <table border=\"1\" class=\"dataframe\">\n",
       "  <thead>\n",
       " <tr style=\"text-align: left;\">\n",
       "      <th>Epoch</th>\n",
       "      <th>Training Loss</th>\n",
       "      <th>Validation Loss</th>\n",
       "      <th>Accuracy</th>\n",
       "      <th>F1</th>\n",
       "      <th>Recall</th>\n",
       "    </tr>\n",
       "  </thead>\n",
       "  <tbody>\n",
       "    <tr>\n",
       "      <td>1</td>\n",
       "      <td>0.909500</td>\n",
       "      <td>0.869656</td>\n",
       "      <td>0.645000</td>\n",
       "      <td>0.645532</td>\n",
       "      <td>0.645000</td>\n",
       "    </tr>\n",
       "  </tbody>\n",
       "</table><p>"
      ],
      "text/plain": [
       "<IPython.core.display.HTML object>"
      ]
     },
     "metadata": {},
     "output_type": "display_data"
    },
    {
     "data": {
      "text/plain": [
       "('./finetuned_rubert_tiny2\\\\tokenizer_config.json',\n",
       " './finetuned_rubert_tiny2\\\\special_tokens_map.json',\n",
       " './finetuned_rubert_tiny2\\\\vocab.txt',\n",
       " './finetuned_rubert_tiny2\\\\added_tokens.json',\n",
       " './finetuned_rubert_tiny2\\\\tokenizer.json')"
      ]
     },
     "execution_count": 6,
     "metadata": {},
     "output_type": "execute_result"
    }
   ],
   "source": [
    "import torch\n",
    "import pandas as pd\n",
    "from transformers import AutoTokenizer, AutoModelForSequenceClassification, Trainer, TrainingArguments\n",
    "from torch.utils.data import Dataset, DataLoader\n",
    "from sklearn.model_selection import train_test_split\n",
    "from sklearn.metrics import accuracy_score, f1_score, recall_score\n",
    "from transformers import DataCollatorWithPadding\n",
    "\n",
    "# Класс датасета\n",
    "def load_dataset(csv_path):\n",
    "    df = pd.read_csv(csv_path, sep=\"\\t\")\n",
    "    label_mapping = {\"negative\": 0, \"neautral\": 1, \"positive\": 2}\n",
    "    df[\"sentiment\"] = df[\"sentiment\"].map(label_mapping)\n",
    "    df = df.sample(frac=1, random_state=42).reset_index(drop=True)  # Перемешивание\n",
    "    df = df.head(2000)\n",
    "    train_texts, test_texts, train_labels, test_labels = train_test_split(\n",
    "        df['review'], df['sentiment'], test_size=0.2, random_state=42\n",
    "    )\n",
    "    return SentimentDataset(train_texts.tolist(), train_labels.tolist()), SentimentDataset(test_texts.tolist(), test_labels.tolist())\n",
    "\n",
    "\n",
    "class SentimentDataset(Dataset):\n",
    "    def __init__(self, texts, labels):\n",
    "        self.texts = texts\n",
    "        self.labels = labels\n",
    "    \n",
    "    def __len__(self):\n",
    "        return len(self.texts)\n",
    "    \n",
    "    def __getitem__(self, idx):\n",
    "        encoding = tokenizer(self.texts[idx], padding='max_length', truncation=True, max_length=512, return_tensors=\"pt\")\n",
    "        return {\"input_ids\": encoding[\"input_ids\"].squeeze(0),\n",
    "                \"attention_mask\": encoding[\"attention_mask\"].squeeze(0),\n",
    "                \"label\": torch.tensor(self.labels[idx], dtype=torch.long)}\n",
    "\n",
    "# Выбор модели\n",
    "model_name = \"cointegrated/rubert-tiny2\"\n",
    "tokenizer = AutoTokenizer.from_pretrained(model_name)\n",
    "model = AutoModelForSequenceClassification.from_pretrained(model_name, num_labels=3)  # 3 класса (negative, neutral, positive)\n",
    "\n",
    "# Подготовка датасета\n",
    "train_dataset, test_dataset = load_dataset(\"reviews.csv\")\n",
    "train_dataloader = DataLoader(train_dataset, batch_size=16, shuffle=True)\n",
    "test_dataloader = DataLoader(test_dataset, batch_size=16, shuffle=False)\n",
    "\n",
    "# Определение метрик\n",
    "def compute_metrics(pred):\n",
    "    labels = pred.label_ids\n",
    "    preds = pred.predictions.argmax(-1)\n",
    "    acc = accuracy_score(labels, preds)\n",
    "    f1 = f1_score(labels, preds, average='weighted')\n",
    "    recall = recall_score(labels, preds, average='weighted')\n",
    "    \n",
    "    return {\"accuracy\": acc, \"f1\": f1, \"recall\": recall}\n",
    "\n",
    "# Параметры обучения\n",
    "training_args = TrainingArguments(\n",
    "    output_dir=\"./results2\",\n",
    "    eval_strategy=\"epoch\",\n",
    "    save_strategy=\"epoch\",\n",
    "    per_device_train_batch_size=16, \n",
    "    per_device_eval_batch_size=16,\n",
    "    num_train_epochs=1,\n",
    "    weight_decay=0.01,\n",
    "    load_best_model_at_end=True,\n",
    "    logging_dir=\"./logs2\",  \n",
    "    logging_strategy=\"steps\",\n",
    "    logging_steps=50,\n",
    "    report_to=\"tensorboard\" \n",
    ")\n",
    "\n",
    "\n",
    "\n",
    "data_collator = DataCollatorWithPadding(tokenizer=tokenizer)\n",
    "\n",
    "trainer = Trainer(\n",
    "    model=model,\n",
    "    args=training_args,\n",
    "    train_dataset=train_dataset,\n",
    "    eval_dataset=test_dataset,\n",
    "    data_collator=data_collator,  # Замена устаревшего tokenizer\n",
    "    compute_metrics=compute_metrics,\n",
    ")\n",
    "\n",
    "trainer.train()\n",
    "\n",
    "# Сохранение модели\n",
    "model.save_pretrained(\"./finetuned_rubert_tiny2\")\n",
    "tokenizer.save_pretrained(\"./finetuned_rubert_tiny2\")\n"
   ]
  },
  {
   "cell_type": "code",
   "execution_count": 19,
   "metadata": {},
   "outputs": [
    {
     "name": "stdout",
     "output_type": "stream",
     "text": [
      "0.36949777603149414\n",
      "Текст: Меня раздражает эта книга\n",
      "Сентимент: neutral\n",
      "\n"
     ]
    }
   ],
   "source": [
    "import torch\n",
    "from transformers import AutoTokenizer, AutoModelForSequenceClassification\n",
    "import time\n",
    "\n",
    "# Загрузка сохраненной модели и токенайзера\n",
    "model_path = \"./finetuned_rubert\"\n",
    "tokenizer = AutoTokenizer.from_pretrained(model_path)\n",
    "model = AutoModelForSequenceClassification.from_pretrained(model_path)\n",
    "model.eval()  \n",
    "# Маппинг числовых меток в текстовые\n",
    "label_mapping = {0: \"negative\", 1: \"neutral\", 2: \"positive\"}\n",
    "\n",
    "# Функция для предсказания сентимента\n",
    "def predict_sentiment(text):\n",
    "    inputs = tokenizer(text, return_tensors=\"pt\", padding=\"max_length\", truncation=True, max_length=512)\n",
    "    with torch.no_grad():\n",
    "        outputs = model(**inputs)\n",
    "    logits = outputs.logits\n",
    "    predicted_class = torch.argmax(logits, dim=1).item()\n",
    "    return label_mapping[predicted_class]\n",
    "\n",
    "start = time.time()\n",
    "# Пример использования\n",
    "texts = [\n",
    "    \"Меня раздражает эта книга\",\n",
    "]\n",
    "\n",
    "for text in texts:\n",
    "    sentiment = predict_sentiment(text)\n",
    "    out = f\"Текст: {text}\\nСентимент: {sentiment}\\n\"\n",
    "end = time.time()\n",
    "print(end - start)\n",
    "print(out)"
   ]
  },
  {
   "cell_type": "code",
   "execution_count": 4,
   "metadata": {},
   "outputs": [
    {
     "name": "stdout",
     "output_type": "stream",
     "text": [
      "[2, 2, 2, 2, 2, 2, 2, 2, 2, 2, 0, 2, 1, 0, 2, 2, 2, 2, 2, 1, 1, 2, 0, 2, 1, 1, 2, 0, 1, 0, 1, 1, 1, 2]\n",
      "Время выполнения: 0.8200006484985352 секунд\n",
      "Precision: 0.5741\n",
      "Recall: 0.6131\n",
      "F1 Score: 0.5361\n"
     ]
    }
   ],
   "source": [
    "import torch\n",
    "from transformers import AutoTokenizer, AutoModelForSequenceClassification\n",
    "from sklearn.metrics import f1_score, recall_score, precision_score\n",
    "import pandas as pd\n",
    "import time\n",
    "\n",
    "# Загрузка сохраненной модели и токенайзера\n",
    "model_path = \"./finetuned_rubert_tiny\"\n",
    "tokenizer = AutoTokenizer.from_pretrained(model_path)\n",
    "model = AutoModelForSequenceClassification.from_pretrained(model_path)\n",
    "model.eval()\n",
    "\n",
    "# Маппинг меток\n",
    "label_mapping = {0: \"B\", 1: \"N\", 2: \"G\"}\n",
    "reverse_label_mapping = {\"B\": 0, \"N\": 1, \"G\": 2}\n",
    "\n",
    "# Функция для предсказания сентимента\n",
    "def predict_sentiment(text):\n",
    "    inputs = tokenizer(text, return_tensors=\"pt\", padding=\"max_length\", truncation=True, max_length=512)\n",
    "    with torch.no_grad():\n",
    "        outputs = model(**inputs)\n",
    "    logits = outputs.logits\n",
    "    predicted_class = torch.argmax(logits, dim=1).item()\n",
    "    return label_mapping[predicted_class]\n",
    "\n",
    "# Открытие датасета\n",
    "dataset_path = \"dataset_comments_35.xlsx\"\n",
    "df = pd.read_excel(dataset_path)\n",
    "\n",
    "true_labels = []\n",
    "predicted_labels = []\n",
    "\n",
    "start = time.time()\n",
    "\n",
    "for index, row in df.iterrows():\n",
    "    text = row['MessageText']\n",
    "    true_label = row['Class']\n",
    "    predicted_label = predict_sentiment(text)\n",
    "    \n",
    "    true_labels.append(reverse_label_mapping[true_label])\n",
    "    predicted_labels.append(reverse_label_mapping[predicted_label])\n",
    "\n",
    "\n",
    "print(predicted_labels)\n",
    "end = time.time()\n",
    "print(f\"Время выполнения: {end - start} секунд\")\n",
    "\n",
    "# Расчет метрик\n",
    "precision = precision_score(true_labels, predicted_labels, average='macro')\n",
    "recall = recall_score(true_labels, predicted_labels, average='macro')\n",
    "f1 = f1_score(true_labels, predicted_labels, average='macro')\n",
    "\n",
    "print(f\"Precision: {precision:.4f}\")\n",
    "print(f\"Recall: {recall:.4f}\")\n",
    "print(f\"F1 Score: {f1:.4f}\")\n"
   ]
  },
  {
   "cell_type": "code",
   "execution_count": 11,
   "metadata": {},
   "outputs": [
    {
     "name": "stdout",
     "output_type": "stream",
     "text": [
      "Модель сохранена в model.onnx\n"
     ]
    }
   ],
   "source": [
    "import torch\n",
    "import onnx\n",
    "from transformers import AutoTokenizer, AutoModelForSequenceClassification\n",
    "\n",
    "model_path = \"./finetuned_rubert_tiny\"\n",
    "onnx_model_path = \"model.onnx\"\n",
    "\n",
    "# Загружаем PyTorch-модель\n",
    "model = AutoModelForSequenceClassification.from_pretrained(model_path)\n",
    "model.eval()\n",
    "\n",
    "# Загружаем токенайзер и готовим входные данные\n",
    "tokenizer = AutoTokenizer.from_pretrained(model_path)\n",
    "dummy_text = \"Пример текста для теста\"\n",
    "inputs = tokenizer(dummy_text, return_tensors=\"pt\", padding=\"max_length\", truncation=True, max_length=512)\n",
    "\n",
    "# Экспортируем модель в ONNX\n",
    "torch.onnx.export(\n",
    "    model,\n",
    "    (inputs[\"input_ids\"], inputs[\"attention_mask\"]),  # Передаём корректные входные данные\n",
    "    onnx_model_path,\n",
    "    input_names=[\"input_ids\", \"attention_mask\"],  # Экспортируем оба входа\n",
    "    output_names=[\"logits\"],\n",
    "    dynamic_axes={\n",
    "        \"input_ids\": {0: \"batch_size\"},\n",
    "        \"attention_mask\": {0: \"batch_size\"},\n",
    "        \"logits\": {0: \"batch_size\"}\n",
    "    },\n",
    "    opset_version=14\n",
    ")\n",
    "\n",
    "print(f\"Модель сохранена в {onnx_model_path}\")\n"
   ]
  },
  {
   "cell_type": "code",
   "execution_count": 10,
   "metadata": {},
   "outputs": [
    {
     "name": "stdout",
     "output_type": "stream",
     "text": [
      "0.03000497817993164\n",
      "Текст: полное говно\n",
      "Сентимент: neutral\n",
      "\n"
     ]
    }
   ],
   "source": [
    "import onnxruntime\n",
    "import numpy as np\n",
    "from transformers import AutoTokenizer\n",
    "import time\n",
    "\n",
    "label_mapping = {0: \"negative\", 1: \"neutral\", 2: \"positive\"}\n",
    "\n",
    "# Загружаем ONNX-модель\n",
    "model_path = 'finetuned_rubert_tiny'\n",
    "onnx_model_path = \"./model.onnx\"\n",
    "\n",
    "session = onnxruntime.InferenceSession(onnx_model_path, providers=[\"CPUExecutionProvider\"])\n",
    "\n",
    "# Загружаем токенайзер\n",
    "tokenizer = AutoTokenizer.from_pretrained(model_path)\n",
    "\n",
    "# Функция предсказания сентимента с ONNX\n",
    "def predict_sentiment_onnx(text):\n",
    "    inputs = tokenizer(text, return_tensors=\"np\", padding=\"max_length\", truncation=True, max_length=512)\n",
    "    input_ids = inputs[\"input_ids\"].astype(np.int64)\n",
    "\n",
    "    # Прогон через ONNX-модель\n",
    "    outputs = session.run([\"logits\"], {\"input_ids\": input_ids})\n",
    "    logits = outputs[0]\n",
    "    predicted_class = np.argmax(logits, axis=1)[0]\n",
    "\n",
    "    return label_mapping[predicted_class]\n",
    "\n",
    "# Тестируем скорость\n",
    "start = time.time()\n",
    "texts = [\"полное говно\"]\n",
    "\n",
    "for text in texts:\n",
    "    sentiment = predict_sentiment_onnx(text)\n",
    "    out = f\"Текст: {text}\\nСентимент: {sentiment}\\n\"\n",
    "end = time.time()\n",
    "\n",
    "print(end - start)\n",
    "print(out)\n"
   ]
  },
  {
   "cell_type": "code",
   "execution_count": null,
   "metadata": {},
   "outputs": [],
   "source": [
    "import pandas as pd\n",
    "\n",
    "splits = {'train': 'train.csv', 'validation': 'valid.csv'}\n",
    "df = pd.read_csv(\"hf://datasets/MonoHime/ru_sentiment_dataset/\" + splits[\"train\"])\n"
   ]
  },
  {
   "cell_type": "code",
   "execution_count": null,
   "metadata": {},
   "outputs": [],
   "source": []
  },
  {
   "cell_type": "code",
   "execution_count": 6,
   "metadata": {},
   "outputs": [
    {
     "data": {
      "text/plain": [
       "189891"
      ]
     },
     "execution_count": 6,
     "metadata": {},
     "output_type": "execute_result"
    }
   ],
   "source": [
    "len(df)"
   ]
  },
  {
   "cell_type": "code",
   "execution_count": 5,
   "metadata": {},
   "outputs": [
    {
     "name": "stderr",
     "output_type": "stream",
     "text": [
      "Some weights of BertForSequenceClassification were not initialized from the model checkpoint at cointegrated/rubert-tiny2 and are newly initialized: ['classifier.bias', 'classifier.weight']\n",
      "You should probably TRAIN this model on a down-stream task to be able to use it for predictions and inference.\n"
     ]
    },
    {
     "data": {
      "text/html": [
       "\n",
       "    <div>\n",
       "      \n",
       "      <progress value='9495' max='9495' style='width:300px; height:20px; vertical-align: middle;'></progress>\n",
       "      [9495/9495 34:18, Epoch 1/1]\n",
       "    </div>\n",
       "    <table border=\"1\" class=\"dataframe\">\n",
       "  <thead>\n",
       " <tr style=\"text-align: left;\">\n",
       "      <th>Epoch</th>\n",
       "      <th>Training Loss</th>\n",
       "      <th>Validation Loss</th>\n",
       "      <th>Accuracy</th>\n",
       "      <th>F1</th>\n",
       "      <th>Recall</th>\n",
       "    </tr>\n",
       "  </thead>\n",
       "  <tbody>\n",
       "    <tr>\n",
       "      <td>1</td>\n",
       "      <td>0.460400</td>\n",
       "      <td>0.452503</td>\n",
       "      <td>0.796098</td>\n",
       "      <td>0.794642</td>\n",
       "      <td>0.796098</td>\n",
       "    </tr>\n",
       "  </tbody>\n",
       "</table><p>"
      ],
      "text/plain": [
       "<IPython.core.display.HTML object>"
      ]
     },
     "metadata": {},
     "output_type": "display_data"
    },
    {
     "data": {
      "text/plain": [
       "('./finetuned_rubert_tiny_rusent\\\\tokenizer_config.json',\n",
       " './finetuned_rubert_tiny_rusent\\\\special_tokens_map.json',\n",
       " './finetuned_rubert_tiny_rusent\\\\vocab.txt',\n",
       " './finetuned_rubert_tiny_rusent\\\\added_tokens.json',\n",
       " './finetuned_rubert_tiny_rusent\\\\tokenizer.json')"
      ]
     },
     "execution_count": 5,
     "metadata": {},
     "output_type": "execute_result"
    }
   ],
   "source": [
    "import torch\n",
    "import pandas as pd\n",
    "from transformers import AutoTokenizer, AutoModelForSequenceClassification, Trainer, TrainingArguments\n",
    "from torch.utils.data import Dataset, DataLoader\n",
    "from sklearn.model_selection import train_test_split\n",
    "from sklearn.metrics import accuracy_score, f1_score, recall_score\n",
    "from transformers import DataCollatorWithPadding\n",
    "\n",
    "\n",
    "splits = {'train': 'train.csv', 'validation': 'valid.csv'}\n",
    "# Класс датасета\n",
    "def load_dataset(csv_path):\n",
    "    df = pd.read_csv(csv_path)\n",
    "    label_mapping = {2: 0, 0: 1, 1: 2} #negative, neutral, positive\n",
    "    df[\"sentiment\"] = df[\"sentiment\"].map(label_mapping)\n",
    "    df = df.sample(frac=1, random_state=42).reset_index(drop=True)  # Перемешивание\n",
    "    train_texts, test_texts, train_labels, test_labels = train_test_split(\n",
    "        df['text'], df['sentiment'], test_size=0.2, random_state=42\n",
    "    )\n",
    "    return SentimentDataset(train_texts.tolist(), train_labels.tolist()), SentimentDataset(test_texts.tolist(), test_labels.tolist())\n",
    "\n",
    "\n",
    "class SentimentDataset(Dataset):\n",
    "    def __init__(self, texts, labels):\n",
    "        self.texts = texts\n",
    "        self.labels = labels\n",
    "    \n",
    "    def __len__(self):\n",
    "        return len(self.texts)\n",
    "    \n",
    "    def __getitem__(self, idx):\n",
    "        encoding = tokenizer(self.texts[idx], padding='max_length', truncation=True, max_length=512, return_tensors=\"pt\")\n",
    "        return {\"input_ids\": encoding[\"input_ids\"].squeeze(0),\n",
    "                \"attention_mask\": encoding[\"attention_mask\"].squeeze(0),\n",
    "                \"label\": torch.tensor(self.labels[idx], dtype=torch.long)}\n",
    "\n",
    "# Выбор модели\n",
    "model_name = \"cointegrated/rubert-tiny2\"\n",
    "tokenizer = AutoTokenizer.from_pretrained(model_name)\n",
    "model = AutoModelForSequenceClassification.from_pretrained(model_name, num_labels=3)  # 3 класса (negative, neutral, positive)\n",
    "\n",
    "# Подготовка датасета\n",
    "train_dataset, test_dataset = load_dataset(\"hf://datasets/MonoHime/ru_sentiment_dataset/\" + splits[\"train\"])\n",
    "train_dataloader = DataLoader(train_dataset, batch_size=16, shuffle=True)\n",
    "test_dataloader = DataLoader(test_dataset, batch_size=16, shuffle=False)\n",
    "\n",
    "# Определение метрик\n",
    "def compute_metrics(pred):\n",
    "    labels = pred.label_ids\n",
    "    preds = pred.predictions.argmax(-1)\n",
    "    acc = accuracy_score(labels, preds)\n",
    "    f1 = f1_score(labels, preds, average='weighted')\n",
    "    recall = recall_score(labels, preds, average='weighted')\n",
    "    \n",
    "    return {\"accuracy\": acc, \"f1\": f1, \"recall\": recall}\n",
    "\n",
    "# Параметры обучения\n",
    "training_args = TrainingArguments(\n",
    "    output_dir=\"./results_rusent\",\n",
    "    eval_strategy=\"epoch\",\n",
    "    save_strategy=\"epoch\",\n",
    "    per_device_train_batch_size=16, \n",
    "    per_device_eval_batch_size=16,\n",
    "    num_train_epochs=1,\n",
    "    weight_decay=0.01,\n",
    "    load_best_model_at_end=True,\n",
    "    logging_dir=\"./logs_rusent\",  \n",
    "    logging_strategy=\"steps\",\n",
    "    logging_steps=50,\n",
    "    report_to=\"tensorboard\" \n",
    ")\n",
    "\n",
    "\n",
    "\n",
    "data_collator = DataCollatorWithPadding(tokenizer=tokenizer)\n",
    "\n",
    "trainer = Trainer(\n",
    "    model=model,\n",
    "    args=training_args,\n",
    "    train_dataset=train_dataset,\n",
    "    eval_dataset=test_dataset,\n",
    "    data_collator=data_collator,  # Замена устаревшего tokenizer\n",
    "    compute_metrics=compute_metrics,\n",
    ")\n",
    "\n",
    "trainer.train()\n",
    "\n",
    "# Сохранение модели\n",
    "model.save_pretrained(\"./finetuned_rubert_tiny_rusent\")\n",
    "tokenizer.save_pretrained(\"./finetuned_rubert_tiny_rusent\")"
   ]
  }
 ],
 "metadata": {
  "kernelspec": {
   "display_name": "venv",
   "language": "python",
   "name": "python3"
  },
  "language_info": {
   "codemirror_mode": {
    "name": "ipython",
    "version": 3
   },
   "file_extension": ".py",
   "mimetype": "text/x-python",
   "name": "python",
   "nbconvert_exporter": "python",
   "pygments_lexer": "ipython3",
   "version": "3.12.2"
  }
 },
 "nbformat": 4,
 "nbformat_minor": 2
}
